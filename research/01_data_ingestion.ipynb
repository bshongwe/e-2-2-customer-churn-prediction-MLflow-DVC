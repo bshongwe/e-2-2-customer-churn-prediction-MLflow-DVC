{
 "cells": [
  {
   "cell_type": "code",
   "execution_count": 1,
   "metadata": {},
   "outputs": [],
   "source": [
    "import os"
   ]
  },
  {
   "cell_type": "code",
   "execution_count": null,
   "metadata": {},
   "outputs": [],
   "source": [
    "# current working directory\n",
    "import os\n",
    "print(os.getcwd()) "
   ]
  },
  {
   "cell_type": "code",
   "execution_count": 3,
   "metadata": {},
   "outputs": [],
   "source": [
    "# change directory (parent directory)\n",
    "os.chdir(\"../\")     "
   ]
  },
  {
   "cell_type": "code",
   "execution_count": null,
   "metadata": {},
   "outputs": [],
   "source": [
    "import os\n",
    "print(os.getcwd())"
   ]
  },
  {
   "cell_type": "code",
   "execution_count": 48,
   "metadata": {},
   "outputs": [],
   "source": [
    "from src.mlops_project.logger import logging\n",
    "from pathlib import Path\n",
    "from dataclasses import dataclass "
   ]
  },
  {
   "cell_type": "code",
   "execution_count": null,
   "metadata": {},
   "outputs": [],
   "source": [
    "@dataclass(frozen=True)\n",
    "class DataIngestionConfig:\n",
    "    \"\"\"\n",
    "    Data class for storing data ingestion config.\n",
    "    \"\"\"\n",
    "    root_dir: Path\n",
    "    source_URL: str\n",
    "    local_data_file: Path\n",
    "    unzip_dir: Path"
   ]
  },
  {
   "cell_type": "code",
   "execution_count": 80,
   "metadata": {},
   "outputs": [],
   "source": [
    "from src.mlops_project.constants import *\n",
    "from src.mlops_project.utils.common import read_yaml, create_directories\n",
    "from box import ConfigBox"
   ]
  },
  {
   "cell_type": "code",
   "execution_count": null,
   "metadata": {},
   "outputs": [],
   "source": [
    "class ConfigurationManager:\n",
    "    def __init__(\n",
    "        self,\n",
    "        config_filepath = CONFIG_FILE_PATH,\n",
    "        params_filepath = PARAMS_FILE_PATH,\n",
    "        schema_filepath = SCHEMA_FILE_PATH):\n",
    "        \"\"\"\n",
    "        Initialize ConfigurationManager with file paths for\n",
    "        config, params and schema.\n",
    "        Read YAML files and store them in ConfigBox objects.\n",
    "        Create root directory for artifacts.\n",
    "        \"\"\"\n",
    "        \n",
    "        # Read the configuration, parameters, and schema files        \n",
    "        self.config = ConfigBox(read_yaml(config_filepath))\n",
    "        self.params = ConfigBox(read_yaml(params_filepath))\n",
    "        self.schema = ConfigBox(read_yaml(schema_filepath))\n",
    "        \n",
    "        # Create the root directory for artifacts\n",
    "        create_directories([self.config.artifacts_root])\n",
    "    \n",
    "    def get_data_ingestion_config(self) -> DataIngestionConfig:\n",
    "        \"\"\"\n",
    "        Retrieve data ingestion configuration from main\n",
    "        configuration.\n",
    "        Create directories specified in the data\n",
    "        ingestion configuration.\n",
    "        Construct and return DataIngestionConfig object.\n",
    "        \"\"\"\n",
    "        \n",
    "        # Retrieve data ingestion configuration\n",
    "        config = self.config.data_ingestion\n",
    "\n",
    "        # Create root directory for data ingestion\n",
    "        create_directories([config.root_dir])\n",
    "\n",
    "        # Construct DataIngestionConfig object\n",
    "        data_ingestion_config = DataIngestionConfig(\n",
    "            root_dir=config.root_dir,\n",
    "            source_URL=config.source_URL,\n",
    "            local_data_file=config.local_data_file,\n",
    "            unzip_dir=config.unzip_dir \n",
    "        )\n",
    "\n",
    "        # Log data ingestion config, return DataIngestionConfig object\n",
    "        logging.info(f\"Data Ingestion config: {data_ingestion_config}\")\n",
    "        return data_ingestion_config"
   ]
  },
  {
   "cell_type": "code",
   "execution_count": 94,
   "metadata": {},
   "outputs": [],
   "source": [
    "import urllib.request as request\n",
    "import zipfile"
   ]
  },
  {
   "cell_type": "code",
   "execution_count": null,
   "metadata": {},
   "outputs": [],
   "source": [
    "class DataIngestion:\n",
    "    def __init__(self, config: DataIngestionConfig):\n",
    "        self.config = config\n",
    "\n",
    "    def download_file(self):\n",
    "        \"\"\"\n",
    "        Download file from source url\n",
    "        Returns: None\n",
    "        \"\"\"\n",
    "        if not os.path.exists(self.config.local_data_file):\n",
    "            filename, headers = request.urlretrieve(\n",
    "                url = self.config.source_URL,\n",
    "                filename = self.config.local_data_file\n",
    "            )\n",
    "            logging.info(f\"{filename} downloaded with following info: \\n{headers}\")\n",
    "        else:\n",
    "            logging.info(f\"File already exists: {self.config.local_data_file}\")\n",
    "\n",
    "    def extract_zip_file(self):\n",
    "        \"\"\"\n",
    "        Extracts zip file into data directory \n",
    "        Returns: None\n",
    "        \"\"\"  \n",
    "        unzip_path = self.config.unzip_dir\n",
    "        os.makedirs(unzip_path, exist_ok=True)\n",
    "        with zipfile.ZipFile(self.config.local_data_file, \"r\") as zip_ref:\n",
    "            zip_ref.extractall(unzip_path)\n"
   ]
  },
  {
   "cell_type": "code",
   "execution_count": null,
   "metadata": {},
   "outputs": [],
   "source": [
    "try:\n",
    "    config = ConfigurationManager()\n",
    "    data_ingestion_config = config.get_data_ingestion_config()\n",
    "    data_ingestion = DataIngestion(config=data_ingestion_config)\n",
    "    data_ingestion.download_file()\n",
    "    data_ingestion.extract_zip_file()\n",
    "except Exception as e:\n",
    "    raise e\n",
    "\n",
    "# Defines a ConfigurationManager class that handles data\n",
    "# ingestion config.\n",
    "# __init__ method initializes ConfigurationManager with file paths\n",
    "# for config, params and schema, reads the YAML files, stores them\n",
    "# in ConfigBox objects, and creates the root directory for\n",
    "# artifacts.\n",
    "# Get_data_ingestion_config method retrieves data ingestion config\n",
    "# from main config,\n",
    "# creates directories specified in data ingestion config,\n",
    "# constructs DataIngestionConfig object,\n",
    "# logs data ingestion config, returns DataIngestionConfig object."
   ]
  },
  {
   "cell_type": "code",
   "execution_count": null,
   "metadata": {},
   "outputs": [],
   "source": []
  }
 ],
 "metadata": {
  "kernelspec": {
   "display_name": ".venv",
   "language": "python",
   "name": "python3"
  },
  "language_info": {
   "codemirror_mode": {
    "name": "ipython",
    "version": 3
   },
   "file_extension": ".py",
   "mimetype": "text/x-python",
   "name": "python",
   "nbconvert_exporter": "python",
   "pygments_lexer": "ipython3",
   "version": "3.8.10"
  }
 },
 "nbformat": 4,
 "nbformat_minor": 2
}
