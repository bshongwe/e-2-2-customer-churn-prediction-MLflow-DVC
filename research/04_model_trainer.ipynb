{
 "cells": [
  {
   "cell_type": "code",
   "execution_count": 1,
   "metadata": {},
   "outputs": [],
   "source": [
    "import os"
   ]
  },
  {
   "cell_type": "code",
   "execution_count": null,
   "metadata": {},
   "outputs": [
    {
     "data": {
      "text/plain": [
       "'c:\\\\Users\\\\hp\\\\Desktop\\\\MLOps project\\\\End-to-End-Customer-Churn-Prediction-using-MLflow-and-DVC\\\\research'"
      ]
     },
     "execution_count": 2,
     "metadata": {},
     "output_type": "execute_result"
    }
   ],
   "source": [
    "import os\n",
    "print(os.getcwd())"
   ]
  },
  {
   "cell_type": "code",
   "execution_count": 3,
   "metadata": {},
   "outputs": [],
   "source": [
    "os.chdir(\"../\")"
   ]
  },
  {
   "cell_type": "code",
   "execution_count": null,
   "metadata": {},
   "outputs": [
    {
     "data": {
      "text/plain": [
       "'c:\\\\Users\\\\hp\\\\Desktop\\\\MLOps project\\\\End-to-End-Customer-Churn-Prediction-using-MLflow-and-DVC'"
      ]
     },
     "execution_count": 4,
     "metadata": {},
     "output_type": "execute_result"
    }
   ],
   "source": [
    "import os\n",
    "print(os.getcwd())"
   ]
  },
  {
   "cell_type": "code",
   "execution_count": 5,
   "metadata": {},
   "outputs": [],
   "source": [
    "from dataclasses import dataclass\n",
    "from pathlib import Path\n",
    "\n",
    "@dataclass(frozen=True)\n",
    "class ModelTrainerConfig:\n",
    "    root_dir: Path\n",
    "    train_data_path: Path\n",
    "    test_data_path: Path\n",
    "    model_name: str\n",
    "    n_estimators: int\n",
    "    max_depth: int\n",
    "    min_samples_split: int\n",
    "    min_samples_leaf: int\n",
    "    bootstrap: bool\n",
    "    target_column: str"
   ]
  },
  {
   "cell_type": "code",
   "execution_count": 6,
   "metadata": {},
   "outputs": [],
   "source": [
    "import pandas as pd\n",
    "from box import ConfigBox\n",
    "from src.mlops_project.logger import logging\n",
    "from src.mlops_project.constants import *\n",
    "from src.mlops_project.utils.common import read_yaml, create_directories"
   ]
  },
  {
   "cell_type": "code",
   "execution_count": 7,
   "metadata": {},
   "outputs": [],
   "source": [
    "class ConfigurationManager:\n",
    "    def __init__(\n",
    "        self,\n",
    "        config_filepath = CONFIG_FILE_PATH,\n",
    "        params_filepath = PARAMS_FILE_PATH,\n",
    "        schema_filepath = SCHEMA_FILE_PATH):\n",
    "        \n",
    "        self.config = ConfigBox(read_yaml(config_filepath))\n",
    "        self.schema = ConfigBox(read_yaml(schema_filepath))\n",
    "        self.params = ConfigBox(read_yaml(params_filepath))\n",
    "        \n",
    "        create_directories([self.config.artifacts_root])\n",
    "\n",
    "    def get_model_trainer_config(self) -> ModelTrainerConfig:\n",
    "        config = self.config.model_trainer\n",
    "        params = self.params.RandomForestClassifier\n",
    "        schema = self.schema.TARGET_COLUMN\n",
    "\n",
    "        create_directories([config.root_dir])\n",
    "\n",
    "        model_trainer_config = ModelTrainerConfig(\n",
    "            root_dir=config.root_dir,\n",
    "            train_data_path=config.train_data_path,\n",
    "            test_data_path=config.test_data_path,\n",
    "            model_name=config.model_name,\n",
    "            n_estimators=params.n_estimators,\n",
    "            max_depth=params.max_depth,\n",
    "            min_samples_split=params.min_samples_split,\n",
    "            min_samples_leaf=params.min_samples_leaf,\n",
    "            bootstrap=params.bootstrap,\n",
    "            target_column=schema.name\n",
    "        )\n",
    "\n",
    "        return model_trainer_config"
   ]
  },
  {
   "cell_type": "code",
   "execution_count": 9,
   "metadata": {},
   "outputs": [],
   "source": [
    "from sklearn.ensemble import RandomForestClassifier\n",
    "import joblib"
   ]
  },
  {
   "cell_type": "code",
   "execution_count": 11,
   "metadata": {},
   "outputs": [],
   "source": [
    "class ModelTrainer:\n",
    "    def __init__(self, config: ModelTrainerConfig):\n",
    "        self.config = config\n",
    "    \n",
    "    def train(self):\n",
    "        try:\n",
    "            logging.info(\"Reading train and test data\")\n",
    "            train_data = pd.read_csv(self.config.train_data_path)\n",
    "            test_data = pd.read_csv(self.config.test_data_path)\n",
    "\n",
    "            logging.info(\"Splitting the dataset into features and target\")\n",
    "            X_train = train_data.drop([self.config.target_column], axis=1)\n",
    "            X_test = test_data.drop([self.config.target_column], axis=1)\n",
    "            y_train = train_data[[self.config.target_column]]\n",
    "            y_test = test_data[[self.config.target_column]]\n",
    "\n",
    "            logging.info(\"Training the model\")\n",
    "            rfc = RandomForestClassifier(\n",
    "                n_estimators=self.config.n_estimators,\n",
    "                max_depth=self.config.max_depth,\n",
    "                min_samples_split=self.config.min_samples_split,\n",
    "                min_samples_leaf=self.config.min_samples_leaf,\n",
    "                bootstrap=self.config.bootstrap\n",
    "            )\n",
    "\n",
    "            rfc.fit(X_train, y_train)\n",
    "\n",
    "            logging.info(\"Saving the model\")\n",
    "            joblib.dump(rfc, os.path.join(self.config.root_dir, self.config.model_name))\n",
    "\n",
    "        except Exception as e:\n",
    "            raise e"
   ]
  },
  {
   "cell_type": "code",
   "execution_count": 12,
   "metadata": {},
   "outputs": [
    {
     "name": "stdout",
     "output_type": "stream",
     "text": [
      "[2025-02-05 00:10:58,702: INFO: common: yaml file: config\\config.yaml loaded successfully]\n",
      "[2025-02-05 00:10:58,713: INFO: common: yaml file: schema.yaml loaded successfully]\n",
      "[2025-02-05 00:10:58,721: INFO: common: yaml file: params.yaml loaded successfully]\n",
      "[2025-02-05 00:10:58,726: INFO: common: created directory at: artifacts]\n",
      "[2025-02-05 00:10:58,729: INFO: common: created directory at: artifacts/model_trainer]\n",
      "[2025-02-05 00:10:58,732: INFO: 3967477003: Reading train and test data]\n",
      "[2025-02-05 00:10:58,861: INFO: 3967477003: Splitting the dataset into features and target]\n",
      "[2025-02-05 00:10:58,870: INFO: 3967477003: Training the model]\n"
     ]
    },
    {
     "name": "stderr",
     "output_type": "stream",
     "text": [
      "c:\\Users\\hp\\anaconda3\\envs\\customer_churn_project\\lib\\site-packages\\sklearn\\base.py:1389: DataConversionWarning: A column-vector y was passed when a 1d array was expected. Please change the shape of y to (n_samples,), for example using ravel().\n",
      "  return fit_method(estimator, *args, **kwargs)\n"
     ]
    },
    {
     "name": "stdout",
     "output_type": "stream",
     "text": [
      "[2025-02-05 00:11:01,261: INFO: 3967477003: Saving the model]\n"
     ]
    }
   ],
   "source": [
    "try:\n",
    "    config = ConfigurationManager()\n",
    "    model_trainer_config = config.get_model_trainer_config()\n",
    "    model_trainer_config = ModelTrainer(config=model_trainer_config)\n",
    "    model_trainer_config.train()\n",
    "except Exception as e:\n",
    "    raise e\n"
   ]
  }
 ],
 "metadata": {
  "kernelspec": {
   "display_name": "customer_churn_project",
   "language": "python",
   "name": "python3"
  },
  "language_info": {
   "codemirror_mode": {
    "name": "ipython",
    "version": 3
   },
   "file_extension": ".py",
   "mimetype": "text/x-python",
   "name": "python",
   "nbconvert_exporter": "python",
   "pygments_lexer": "ipython3",
   "version": "3.10.16"
  }
 },
 "nbformat": 4,
 "nbformat_minor": 2
}
